{
 "cells": [
  {
   "cell_type": "code",
   "execution_count": 76,
   "id": "0f2eb158-cd7b-427a-9aee-c7c5e60f84ba",
   "metadata": {},
   "outputs": [],
   "source": [
    "import setup\n",
    "setup.init_django()"
   ]
  },
  {
   "cell_type": "code",
   "execution_count": 77,
   "id": "678043df-333c-4582-b71e-f309188e789b",
   "metadata": {},
   "outputs": [],
   "source": [
    "from market.models import *"
   ]
  },
  {
   "cell_type": "code",
   "execution_count": 78,
   "id": "2b0cdeb9-d58e-4d4d-b893-e8bc18ff25e7",
   "metadata": {},
   "outputs": [
    {
     "data": {
      "text/plain": [
       "4"
      ]
     },
     "execution_count": 78,
     "metadata": {},
     "output_type": "execute_result"
    }
   ],
   "source": [
    "qs=Company.objects.all()\n",
    "qs.count()"
   ]
  },
  {
   "cell_type": "code",
   "execution_count": 79,
   "id": "aaa5b147-b0dd-495e-ad50-7162c9c5a550",
   "metadata": {},
   "outputs": [],
   "source": [
    "obj,created=Company.objects.get_or_create(name=\"Meta\", ticker=\"META\")\n",
    "obj.save()"
   ]
  },
  {
   "cell_type": "code",
   "execution_count": 80,
   "id": "739adece-ee0f-436c-ba3f-d5341dc1d597",
   "metadata": {},
   "outputs": [
    {
     "data": {
      "text/plain": [
       "300"
      ]
     },
     "execution_count": 80,
     "metadata": {},
     "output_type": "execute_result"
    }
   ],
   "source": [
    "stocks=StockQuotes.objects.all()\n",
    "stocks.count()"
   ]
  },
  {
   "cell_type": "code",
   "execution_count": 81,
   "id": "16ce2666-8de9-4d32-bb51-616030ae9169",
   "metadata": {},
   "outputs": [],
   "source": [
    "for company in qs:\n",
    "    company.save()"
   ]
  },
  {
   "cell_type": "code",
   "execution_count": 82,
   "id": "ee84c03e-c874-40cb-bae4-f572b9e15b1d",
   "metadata": {},
   "outputs": [],
   "source": [
    "#Company.objects.create(name=\"Microsoft\", ticker=\"MSFT\")"
   ]
  },
  {
   "cell_type": "code",
   "execution_count": 83,
   "id": "ccb87011-074a-48e4-8aec-451a2fcdecc0",
   "metadata": {},
   "outputs": [
    {
     "data": {
      "text/plain": [
       "300"
      ]
     },
     "execution_count": 83,
     "metadata": {},
     "output_type": "execute_result"
    }
   ],
   "source": [
    "StockQuotes.objects.all().count()"
   ]
  },
  {
   "cell_type": "code",
   "execution_count": 84,
   "id": "f90d8ab8-eabc-4bb4-9b0d-bfeb81d74e33",
   "metadata": {},
   "outputs": [],
   "source": [
    "start_from_scratch=False\n",
    "if start_from_scratch:\n",
    "    stocks.delete()"
   ]
  },
  {
   "cell_type": "code",
   "execution_count": 85,
   "id": "3d0c5d71-9772-4989-9730-6fb25246cdf8",
   "metadata": {},
   "outputs": [],
   "source": [
    "from market import tasks as market_tasks"
   ]
  },
  {
   "cell_type": "code",
   "execution_count": 86,
   "id": "43ee2033-b641-430a-b23d-1c7acd6658d7",
   "metadata": {},
   "outputs": [
    {
     "data": {
      "text/plain": [
       "<AsyncResult: fe3f9dbd-5d37-4c33-b8e1-05ab1d0e5db7>"
      ]
     },
     "execution_count": 86,
     "metadata": {},
     "output_type": "execute_result"
    }
   ],
   "source": [
    "market_tasks.sync_stock_data.delay()"
   ]
  },
  {
   "cell_type": "code",
   "execution_count": 87,
   "id": "d4dd0ed4-f801-456f-b145-72255e3a9795",
   "metadata": {},
   "outputs": [
    {
     "data": {
      "text/plain": [
       "300"
      ]
     },
     "execution_count": 87,
     "metadata": {},
     "output_type": "execute_result"
    }
   ],
   "source": [
    "StockQuotes.objects.all().count()"
   ]
  },
  {
   "cell_type": "code",
   "execution_count": null,
   "id": "0ffb2411-a899-47b4-b05e-66fd4486a431",
   "metadata": {},
   "outputs": [],
   "source": []
  },
  {
   "cell_type": "code",
   "execution_count": null,
   "id": "fd233e51-30c2-490b-9a8d-5cff68fbb9a2",
   "metadata": {},
   "outputs": [],
   "source": []
  }
 ],
 "metadata": {
  "kernelspec": {
   "display_name": "Python 3 (ipykernel)",
   "language": "python",
   "name": "python3"
  },
  "language_info": {
   "codemirror_mode": {
    "name": "ipython",
    "version": 3
   },
   "file_extension": ".py",
   "mimetype": "text/x-python",
   "name": "python",
   "nbconvert_exporter": "python",
   "pygments_lexer": "ipython3",
   "version": "3.12.6"
  }
 },
 "nbformat": 4,
 "nbformat_minor": 5
}
