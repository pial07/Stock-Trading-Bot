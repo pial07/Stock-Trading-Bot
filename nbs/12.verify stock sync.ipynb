{
 "cells": [
  {
   "cell_type": "code",
   "execution_count": 1,
   "id": "0f2eb158-cd7b-427a-9aee-c7c5e60f84ba",
   "metadata": {},
   "outputs": [],
   "source": [
    "import setup\n",
    "setup.init_django()"
   ]
  },
  {
   "cell_type": "code",
   "execution_count": 2,
   "id": "678043df-333c-4582-b71e-f309188e789b",
   "metadata": {},
   "outputs": [],
   "source": [
    "from market.models import *"
   ]
  },
  {
   "cell_type": "code",
   "execution_count": 3,
   "id": "2b0cdeb9-d58e-4d4d-b893-e8bc18ff25e7",
   "metadata": {},
   "outputs": [
    {
     "data": {
      "text/plain": [
       "3"
      ]
     },
     "execution_count": 3,
     "metadata": {},
     "output_type": "execute_result"
    }
   ],
   "source": [
    "qs=Company.objects.all()\n",
    "qs.count()"
   ]
  },
  {
   "cell_type": "code",
   "execution_count": 4,
   "id": "aaa5b147-b0dd-495e-ad50-7162c9c5a550",
   "metadata": {},
   "outputs": [
    {
     "ename": "IntegrityError",
     "evalue": "duplicate key value violates unique constraint \"market_company_ticker_key\"\nDETAIL:  Key (ticker)=(META) already exists.",
     "output_type": "error",
     "traceback": [
      "\u001b[31m---------------------------------------------------------------------------\u001b[39m",
      "\u001b[31mDoesNotExist\u001b[39m                              Traceback (most recent call last)",
      "\u001b[36mFile \u001b[39m\u001b[32mH:\\py4e\\Stock-Trading-Bot\\venv\\Lib\\site-packages\\django\\db\\models\\query.py:948\u001b[39m, in \u001b[36mQuerySet.get_or_create\u001b[39m\u001b[34m(self, defaults, **kwargs)\u001b[39m\n\u001b[32m    947\u001b[39m \u001b[38;5;28;01mtry\u001b[39;00m:\n\u001b[32m--> \u001b[39m\u001b[32m948\u001b[39m     \u001b[38;5;28;01mreturn\u001b[39;00m \u001b[38;5;28;43mself\u001b[39;49m\u001b[43m.\u001b[49m\u001b[43mget\u001b[49m\u001b[43m(\u001b[49m\u001b[43m*\u001b[49m\u001b[43m*\u001b[49m\u001b[43mkwargs\u001b[49m\u001b[43m)\u001b[49m, \u001b[38;5;28;01mFalse\u001b[39;00m\n\u001b[32m    949\u001b[39m \u001b[38;5;28;01mexcept\u001b[39;00m \u001b[38;5;28mself\u001b[39m.model.DoesNotExist:\n",
      "\u001b[36mFile \u001b[39m\u001b[32mH:\\py4e\\Stock-Trading-Bot\\venv\\Lib\\site-packages\\django\\db\\models\\query.py:649\u001b[39m, in \u001b[36mQuerySet.get\u001b[39m\u001b[34m(self, *args, **kwargs)\u001b[39m\n\u001b[32m    648\u001b[39m \u001b[38;5;28;01mif\u001b[39;00m \u001b[38;5;129;01mnot\u001b[39;00m num:\n\u001b[32m--> \u001b[39m\u001b[32m649\u001b[39m     \u001b[38;5;28;01mraise\u001b[39;00m \u001b[38;5;28mself\u001b[39m.model.DoesNotExist(\n\u001b[32m    650\u001b[39m         \u001b[33m\"\u001b[39m\u001b[38;5;132;01m%s\u001b[39;00m\u001b[33m matching query does not exist.\u001b[39m\u001b[33m\"\u001b[39m % \u001b[38;5;28mself\u001b[39m.model._meta.object_name\n\u001b[32m    651\u001b[39m     )\n\u001b[32m    652\u001b[39m \u001b[38;5;28;01mraise\u001b[39;00m \u001b[38;5;28mself\u001b[39m.model.MultipleObjectsReturned(\n\u001b[32m    653\u001b[39m     \u001b[33m\"\u001b[39m\u001b[33mget() returned more than one \u001b[39m\u001b[38;5;132;01m%s\u001b[39;00m\u001b[33m -- it returned \u001b[39m\u001b[38;5;132;01m%s\u001b[39;00m\u001b[33m!\u001b[39m\u001b[33m\"\u001b[39m\n\u001b[32m    654\u001b[39m     % (\n\u001b[32m   (...)\u001b[39m\u001b[32m    657\u001b[39m     )\n\u001b[32m    658\u001b[39m )\n",
      "\u001b[31mDoesNotExist\u001b[39m: Company matching query does not exist.",
      "\nDuring handling of the above exception, another exception occurred:\n",
      "\u001b[31mUniqueViolation\u001b[39m                           Traceback (most recent call last)",
      "\u001b[36mFile \u001b[39m\u001b[32mH:\\py4e\\Stock-Trading-Bot\\venv\\Lib\\site-packages\\django\\db\\backends\\utils.py:105\u001b[39m, in \u001b[36mCursorWrapper._execute\u001b[39m\u001b[34m(self, sql, params, *ignored_wrapper_args)\u001b[39m\n\u001b[32m    104\u001b[39m \u001b[38;5;28;01melse\u001b[39;00m:\n\u001b[32m--> \u001b[39m\u001b[32m105\u001b[39m     \u001b[38;5;28;01mreturn\u001b[39;00m \u001b[38;5;28;43mself\u001b[39;49m\u001b[43m.\u001b[49m\u001b[43mcursor\u001b[49m\u001b[43m.\u001b[49m\u001b[43mexecute\u001b[49m\u001b[43m(\u001b[49m\u001b[43msql\u001b[49m\u001b[43m,\u001b[49m\u001b[43m \u001b[49m\u001b[43mparams\u001b[49m\u001b[43m)\u001b[49m\n",
      "\u001b[36mFile \u001b[39m\u001b[32mH:\\py4e\\Stock-Trading-Bot\\venv\\Lib\\site-packages\\psycopg\\cursor.py:97\u001b[39m, in \u001b[36mCursor.execute\u001b[39m\u001b[34m(self, query, params, prepare, binary)\u001b[39m\n\u001b[32m     96\u001b[39m \u001b[38;5;28;01mexcept\u001b[39;00m e._NO_TRACEBACK \u001b[38;5;28;01mas\u001b[39;00m ex:\n\u001b[32m---> \u001b[39m\u001b[32m97\u001b[39m     \u001b[38;5;28;01mraise\u001b[39;00m ex.with_traceback(\u001b[38;5;28;01mNone\u001b[39;00m)\n\u001b[32m     98\u001b[39m \u001b[38;5;28;01mreturn\u001b[39;00m \u001b[38;5;28mself\u001b[39m\n",
      "\u001b[31mUniqueViolation\u001b[39m: duplicate key value violates unique constraint \"market_company_ticker_key\"\nDETAIL:  Key (ticker)=(META) already exists.",
      "\nThe above exception was the direct cause of the following exception:\n",
      "\u001b[31mIntegrityError\u001b[39m                            Traceback (most recent call last)",
      "\u001b[36mCell\u001b[39m\u001b[36m \u001b[39m\u001b[32mIn[4]\u001b[39m\u001b[32m, line 1\u001b[39m\n\u001b[32m----> \u001b[39m\u001b[32m1\u001b[39m obj,created=\u001b[43mCompany\u001b[49m\u001b[43m.\u001b[49m\u001b[43mobjects\u001b[49m\u001b[43m.\u001b[49m\u001b[43mget_or_create\u001b[49m\u001b[43m(\u001b[49m\u001b[43mname\u001b[49m\u001b[43m=\u001b[49m\u001b[33;43m\"\u001b[39;49m\u001b[33;43mMeta\u001b[39;49m\u001b[33;43m\"\u001b[39;49m\u001b[43m,\u001b[49m\u001b[43m \u001b[49m\u001b[43mticker\u001b[49m\u001b[43m=\u001b[49m\u001b[33;43m\"\u001b[39;49m\u001b[33;43mmeta\u001b[39;49m\u001b[33;43m\"\u001b[39;49m\u001b[43m)\u001b[49m\n\u001b[32m      2\u001b[39m obj.save()\n",
      "\u001b[36mFile \u001b[39m\u001b[32mH:\\py4e\\Stock-Trading-Bot\\venv\\Lib\\site-packages\\django\\db\\models\\manager.py:87\u001b[39m, in \u001b[36mBaseManager._get_queryset_methods.<locals>.create_method.<locals>.manager_method\u001b[39m\u001b[34m(self, *args, **kwargs)\u001b[39m\n\u001b[32m     85\u001b[39m \u001b[38;5;129m@wraps\u001b[39m(method)\n\u001b[32m     86\u001b[39m \u001b[38;5;28;01mdef\u001b[39;00m\u001b[38;5;250m \u001b[39m\u001b[34mmanager_method\u001b[39m(\u001b[38;5;28mself\u001b[39m, *args, **kwargs):\n\u001b[32m---> \u001b[39m\u001b[32m87\u001b[39m     \u001b[38;5;28;01mreturn\u001b[39;00m \u001b[38;5;28;43mgetattr\u001b[39;49m\u001b[43m(\u001b[49m\u001b[38;5;28;43mself\u001b[39;49m\u001b[43m.\u001b[49m\u001b[43mget_queryset\u001b[49m\u001b[43m(\u001b[49m\u001b[43m)\u001b[49m\u001b[43m,\u001b[49m\u001b[43m \u001b[49m\u001b[43mname\u001b[49m\u001b[43m)\u001b[49m\u001b[43m(\u001b[49m\u001b[43m*\u001b[49m\u001b[43margs\u001b[49m\u001b[43m,\u001b[49m\u001b[43m \u001b[49m\u001b[43m*\u001b[49m\u001b[43m*\u001b[49m\u001b[43mkwargs\u001b[49m\u001b[43m)\u001b[49m\n",
      "\u001b[36mFile \u001b[39m\u001b[32mH:\\py4e\\Stock-Trading-Bot\\venv\\Lib\\site-packages\\django\\db\\models\\query.py:955\u001b[39m, in \u001b[36mQuerySet.get_or_create\u001b[39m\u001b[34m(self, defaults, **kwargs)\u001b[39m\n\u001b[32m    953\u001b[39m     \u001b[38;5;28;01mwith\u001b[39;00m transaction.atomic(using=\u001b[38;5;28mself\u001b[39m.db):\n\u001b[32m    954\u001b[39m         params = \u001b[38;5;28mdict\u001b[39m(resolve_callables(params))\n\u001b[32m--> \u001b[39m\u001b[32m955\u001b[39m         \u001b[38;5;28;01mreturn\u001b[39;00m \u001b[38;5;28;43mself\u001b[39;49m\u001b[43m.\u001b[49m\u001b[43mcreate\u001b[49m\u001b[43m(\u001b[49m\u001b[43m*\u001b[49m\u001b[43m*\u001b[49m\u001b[43mparams\u001b[49m\u001b[43m)\u001b[49m, \u001b[38;5;28;01mTrue\u001b[39;00m\n\u001b[32m    956\u001b[39m \u001b[38;5;28;01mexcept\u001b[39;00m IntegrityError:\n\u001b[32m    957\u001b[39m     \u001b[38;5;28;01mtry\u001b[39;00m:\n",
      "\u001b[36mFile \u001b[39m\u001b[32mH:\\py4e\\Stock-Trading-Bot\\venv\\Lib\\site-packages\\django\\db\\models\\query.py:679\u001b[39m, in \u001b[36mQuerySet.create\u001b[39m\u001b[34m(self, **kwargs)\u001b[39m\n\u001b[32m    677\u001b[39m obj = \u001b[38;5;28mself\u001b[39m.model(**kwargs)\n\u001b[32m    678\u001b[39m \u001b[38;5;28mself\u001b[39m._for_write = \u001b[38;5;28;01mTrue\u001b[39;00m\n\u001b[32m--> \u001b[39m\u001b[32m679\u001b[39m \u001b[43mobj\u001b[49m\u001b[43m.\u001b[49m\u001b[43msave\u001b[49m\u001b[43m(\u001b[49m\u001b[43mforce_insert\u001b[49m\u001b[43m=\u001b[49m\u001b[38;5;28;43;01mTrue\u001b[39;49;00m\u001b[43m,\u001b[49m\u001b[43m \u001b[49m\u001b[43musing\u001b[49m\u001b[43m=\u001b[49m\u001b[38;5;28;43mself\u001b[39;49m\u001b[43m.\u001b[49m\u001b[43mdb\u001b[49m\u001b[43m)\u001b[49m\n\u001b[32m    680\u001b[39m \u001b[38;5;28;01mreturn\u001b[39;00m obj\n",
      "\u001b[36mFile \u001b[39m\u001b[32mH:\\py4e\\Stock-Trading-Bot\\src\\market\\models.py:15\u001b[39m, in \u001b[36mCompany.save\u001b[39m\u001b[34m(self, *args, **kwargs)\u001b[39m\n\u001b[32m     13\u001b[39m \u001b[38;5;28;01mdef\u001b[39;00m\u001b[38;5;250m \u001b[39m\u001b[34msave\u001b[39m(\u001b[38;5;28mself\u001b[39m, *args, **kwargs):\n\u001b[32m     14\u001b[39m     \u001b[38;5;28mself\u001b[39m.ticker = \u001b[38;5;28mself\u001b[39m.ticker.upper()\n\u001b[32m---> \u001b[39m\u001b[32m15\u001b[39m     \u001b[38;5;28;43msuper\u001b[39;49m\u001b[43m(\u001b[49m\u001b[43m)\u001b[49m\u001b[43m.\u001b[49m\u001b[43msave\u001b[49m\u001b[43m(\u001b[49m\u001b[43m*\u001b[49m\u001b[43margs\u001b[49m\u001b[43m,\u001b[49m\u001b[43m \u001b[49m\u001b[43m*\u001b[49m\u001b[43m*\u001b[49m\u001b[43mkwargs\u001b[49m\u001b[43m)\u001b[49m\n",
      "\u001b[36mFile \u001b[39m\u001b[32mH:\\py4e\\Stock-Trading-Bot\\venv\\Lib\\site-packages\\django\\db\\models\\base.py:892\u001b[39m, in \u001b[36mModel.save\u001b[39m\u001b[34m(self, force_insert, force_update, using, update_fields, *args)\u001b[39m\n\u001b[32m    889\u001b[39m     \u001b[38;5;28;01mif\u001b[39;00m loaded_fields:\n\u001b[32m    890\u001b[39m         update_fields = \u001b[38;5;28mfrozenset\u001b[39m(loaded_fields)\n\u001b[32m--> \u001b[39m\u001b[32m892\u001b[39m \u001b[38;5;28;43mself\u001b[39;49m\u001b[43m.\u001b[49m\u001b[43msave_base\u001b[49m\u001b[43m(\u001b[49m\n\u001b[32m    893\u001b[39m \u001b[43m    \u001b[49m\u001b[43musing\u001b[49m\u001b[43m=\u001b[49m\u001b[43musing\u001b[49m\u001b[43m,\u001b[49m\n\u001b[32m    894\u001b[39m \u001b[43m    \u001b[49m\u001b[43mforce_insert\u001b[49m\u001b[43m=\u001b[49m\u001b[43mforce_insert\u001b[49m\u001b[43m,\u001b[49m\n\u001b[32m    895\u001b[39m \u001b[43m    \u001b[49m\u001b[43mforce_update\u001b[49m\u001b[43m=\u001b[49m\u001b[43mforce_update\u001b[49m\u001b[43m,\u001b[49m\n\u001b[32m    896\u001b[39m \u001b[43m    \u001b[49m\u001b[43mupdate_fields\u001b[49m\u001b[43m=\u001b[49m\u001b[43mupdate_fields\u001b[49m\u001b[43m,\u001b[49m\n\u001b[32m    897\u001b[39m \u001b[43m\u001b[49m\u001b[43m)\u001b[49m\n",
      "\u001b[36mFile \u001b[39m\u001b[32mH:\\py4e\\Stock-Trading-Bot\\venv\\Lib\\site-packages\\django\\db\\models\\base.py:998\u001b[39m, in \u001b[36mModel.save_base\u001b[39m\u001b[34m(self, raw, force_insert, force_update, using, update_fields)\u001b[39m\n\u001b[32m    994\u001b[39m         force_insert = \u001b[38;5;28mself\u001b[39m._validate_force_insert(force_insert)\n\u001b[32m    995\u001b[39m         parent_inserted = \u001b[38;5;28mself\u001b[39m._save_parents(\n\u001b[32m    996\u001b[39m             \u001b[38;5;28mcls\u001b[39m, using, update_fields, force_insert\n\u001b[32m    997\u001b[39m         )\n\u001b[32m--> \u001b[39m\u001b[32m998\u001b[39m     updated = \u001b[38;5;28;43mself\u001b[39;49m\u001b[43m.\u001b[49m\u001b[43m_save_table\u001b[49m\u001b[43m(\u001b[49m\n\u001b[32m    999\u001b[39m \u001b[43m        \u001b[49m\u001b[43mraw\u001b[49m\u001b[43m,\u001b[49m\n\u001b[32m   1000\u001b[39m \u001b[43m        \u001b[49m\u001b[38;5;28;43mcls\u001b[39;49m\u001b[43m,\u001b[49m\n\u001b[32m   1001\u001b[39m \u001b[43m        \u001b[49m\u001b[43mforce_insert\u001b[49m\u001b[43m \u001b[49m\u001b[38;5;129;43;01mor\u001b[39;49;00m\u001b[43m \u001b[49m\u001b[43mparent_inserted\u001b[49m\u001b[43m,\u001b[49m\n\u001b[32m   1002\u001b[39m \u001b[43m        \u001b[49m\u001b[43mforce_update\u001b[49m\u001b[43m,\u001b[49m\n\u001b[32m   1003\u001b[39m \u001b[43m        \u001b[49m\u001b[43musing\u001b[49m\u001b[43m,\u001b[49m\n\u001b[32m   1004\u001b[39m \u001b[43m        \u001b[49m\u001b[43mupdate_fields\u001b[49m\u001b[43m,\u001b[49m\n\u001b[32m   1005\u001b[39m \u001b[43m    \u001b[49m\u001b[43m)\u001b[49m\n\u001b[32m   1006\u001b[39m \u001b[38;5;66;03m# Store the database on which the object was saved\u001b[39;00m\n\u001b[32m   1007\u001b[39m \u001b[38;5;28mself\u001b[39m._state.db = using\n",
      "\u001b[36mFile \u001b[39m\u001b[32mH:\\py4e\\Stock-Trading-Bot\\venv\\Lib\\site-packages\\django\\db\\models\\base.py:1161\u001b[39m, in \u001b[36mModel._save_table\u001b[39m\u001b[34m(self, raw, cls, force_insert, force_update, using, update_fields)\u001b[39m\n\u001b[32m   1155\u001b[39m fields = [\n\u001b[32m   1156\u001b[39m     f\n\u001b[32m   1157\u001b[39m     \u001b[38;5;28;01mfor\u001b[39;00m f \u001b[38;5;129;01min\u001b[39;00m meta.local_concrete_fields\n\u001b[32m   1158\u001b[39m     \u001b[38;5;28;01mif\u001b[39;00m \u001b[38;5;129;01mnot\u001b[39;00m f.generated \u001b[38;5;129;01mand\u001b[39;00m (pk_set \u001b[38;5;129;01mor\u001b[39;00m f \u001b[38;5;129;01mis\u001b[39;00m \u001b[38;5;129;01mnot\u001b[39;00m meta.auto_field)\n\u001b[32m   1159\u001b[39m ]\n\u001b[32m   1160\u001b[39m returning_fields = meta.db_returning_fields\n\u001b[32m-> \u001b[39m\u001b[32m1161\u001b[39m results = \u001b[38;5;28;43mself\u001b[39;49m\u001b[43m.\u001b[49m\u001b[43m_do_insert\u001b[49m\u001b[43m(\u001b[49m\n\u001b[32m   1162\u001b[39m \u001b[43m    \u001b[49m\u001b[38;5;28;43mcls\u001b[39;49m\u001b[43m.\u001b[49m\u001b[43m_base_manager\u001b[49m\u001b[43m,\u001b[49m\u001b[43m \u001b[49m\u001b[43musing\u001b[49m\u001b[43m,\u001b[49m\u001b[43m \u001b[49m\u001b[43mfields\u001b[49m\u001b[43m,\u001b[49m\u001b[43m \u001b[49m\u001b[43mreturning_fields\u001b[49m\u001b[43m,\u001b[49m\u001b[43m \u001b[49m\u001b[43mraw\u001b[49m\n\u001b[32m   1163\u001b[39m \u001b[43m\u001b[49m\u001b[43m)\u001b[49m\n\u001b[32m   1164\u001b[39m \u001b[38;5;28;01mif\u001b[39;00m results:\n\u001b[32m   1165\u001b[39m     \u001b[38;5;28;01mfor\u001b[39;00m value, field \u001b[38;5;129;01min\u001b[39;00m \u001b[38;5;28mzip\u001b[39m(results[\u001b[32m0\u001b[39m], returning_fields):\n",
      "\u001b[36mFile \u001b[39m\u001b[32mH:\\py4e\\Stock-Trading-Bot\\venv\\Lib\\site-packages\\django\\db\\models\\base.py:1202\u001b[39m, in \u001b[36mModel._do_insert\u001b[39m\u001b[34m(self, manager, using, fields, returning_fields, raw)\u001b[39m\n\u001b[32m   1197\u001b[39m \u001b[38;5;28;01mdef\u001b[39;00m\u001b[38;5;250m \u001b[39m\u001b[34m_do_insert\u001b[39m(\u001b[38;5;28mself\u001b[39m, manager, using, fields, returning_fields, raw):\n\u001b[32m   1198\u001b[39m \u001b[38;5;250m    \u001b[39m\u001b[33;03m\"\"\"\u001b[39;00m\n\u001b[32m   1199\u001b[39m \u001b[33;03m    Do an INSERT. If returning_fields is defined then this method should\u001b[39;00m\n\u001b[32m   1200\u001b[39m \u001b[33;03m    return the newly created data for the model.\u001b[39;00m\n\u001b[32m   1201\u001b[39m \u001b[33;03m    \"\"\"\u001b[39;00m\n\u001b[32m-> \u001b[39m\u001b[32m1202\u001b[39m     \u001b[38;5;28;01mreturn\u001b[39;00m \u001b[43mmanager\u001b[49m\u001b[43m.\u001b[49m\u001b[43m_insert\u001b[49m\u001b[43m(\u001b[49m\n\u001b[32m   1203\u001b[39m \u001b[43m        \u001b[49m\u001b[43m[\u001b[49m\u001b[38;5;28;43mself\u001b[39;49m\u001b[43m]\u001b[49m\u001b[43m,\u001b[49m\n\u001b[32m   1204\u001b[39m \u001b[43m        \u001b[49m\u001b[43mfields\u001b[49m\u001b[43m=\u001b[49m\u001b[43mfields\u001b[49m\u001b[43m,\u001b[49m\n\u001b[32m   1205\u001b[39m \u001b[43m        \u001b[49m\u001b[43mreturning_fields\u001b[49m\u001b[43m=\u001b[49m\u001b[43mreturning_fields\u001b[49m\u001b[43m,\u001b[49m\n\u001b[32m   1206\u001b[39m \u001b[43m        \u001b[49m\u001b[43musing\u001b[49m\u001b[43m=\u001b[49m\u001b[43musing\u001b[49m\u001b[43m,\u001b[49m\n\u001b[32m   1207\u001b[39m \u001b[43m        \u001b[49m\u001b[43mraw\u001b[49m\u001b[43m=\u001b[49m\u001b[43mraw\u001b[49m\u001b[43m,\u001b[49m\n\u001b[32m   1208\u001b[39m \u001b[43m    \u001b[49m\u001b[43m)\u001b[49m\n",
      "\u001b[36mFile \u001b[39m\u001b[32mH:\\py4e\\Stock-Trading-Bot\\venv\\Lib\\site-packages\\django\\db\\models\\manager.py:87\u001b[39m, in \u001b[36mBaseManager._get_queryset_methods.<locals>.create_method.<locals>.manager_method\u001b[39m\u001b[34m(self, *args, **kwargs)\u001b[39m\n\u001b[32m     85\u001b[39m \u001b[38;5;129m@wraps\u001b[39m(method)\n\u001b[32m     86\u001b[39m \u001b[38;5;28;01mdef\u001b[39;00m\u001b[38;5;250m \u001b[39m\u001b[34mmanager_method\u001b[39m(\u001b[38;5;28mself\u001b[39m, *args, **kwargs):\n\u001b[32m---> \u001b[39m\u001b[32m87\u001b[39m     \u001b[38;5;28;01mreturn\u001b[39;00m \u001b[38;5;28;43mgetattr\u001b[39;49m\u001b[43m(\u001b[49m\u001b[38;5;28;43mself\u001b[39;49m\u001b[43m.\u001b[49m\u001b[43mget_queryset\u001b[49m\u001b[43m(\u001b[49m\u001b[43m)\u001b[49m\u001b[43m,\u001b[49m\u001b[43m \u001b[49m\u001b[43mname\u001b[49m\u001b[43m)\u001b[49m\u001b[43m(\u001b[49m\u001b[43m*\u001b[49m\u001b[43margs\u001b[49m\u001b[43m,\u001b[49m\u001b[43m \u001b[49m\u001b[43m*\u001b[49m\u001b[43m*\u001b[49m\u001b[43mkwargs\u001b[49m\u001b[43m)\u001b[49m\n",
      "\u001b[36mFile \u001b[39m\u001b[32mH:\\py4e\\Stock-Trading-Bot\\venv\\Lib\\site-packages\\django\\db\\models\\query.py:1847\u001b[39m, in \u001b[36mQuerySet._insert\u001b[39m\u001b[34m(self, objs, fields, returning_fields, raw, using, on_conflict, update_fields, unique_fields)\u001b[39m\n\u001b[32m   1840\u001b[39m query = sql.InsertQuery(\n\u001b[32m   1841\u001b[39m     \u001b[38;5;28mself\u001b[39m.model,\n\u001b[32m   1842\u001b[39m     on_conflict=on_conflict,\n\u001b[32m   1843\u001b[39m     update_fields=update_fields,\n\u001b[32m   1844\u001b[39m     unique_fields=unique_fields,\n\u001b[32m   1845\u001b[39m )\n\u001b[32m   1846\u001b[39m query.insert_values(fields, objs, raw=raw)\n\u001b[32m-> \u001b[39m\u001b[32m1847\u001b[39m \u001b[38;5;28;01mreturn\u001b[39;00m \u001b[43mquery\u001b[49m\u001b[43m.\u001b[49m\u001b[43mget_compiler\u001b[49m\u001b[43m(\u001b[49m\u001b[43musing\u001b[49m\u001b[43m=\u001b[49m\u001b[43musing\u001b[49m\u001b[43m)\u001b[49m\u001b[43m.\u001b[49m\u001b[43mexecute_sql\u001b[49m\u001b[43m(\u001b[49m\u001b[43mreturning_fields\u001b[49m\u001b[43m)\u001b[49m\n",
      "\u001b[36mFile \u001b[39m\u001b[32mH:\\py4e\\Stock-Trading-Bot\\venv\\Lib\\site-packages\\django\\db\\models\\sql\\compiler.py:1836\u001b[39m, in \u001b[36mSQLInsertCompiler.execute_sql\u001b[39m\u001b[34m(self, returning_fields)\u001b[39m\n\u001b[32m   1834\u001b[39m \u001b[38;5;28;01mwith\u001b[39;00m \u001b[38;5;28mself\u001b[39m.connection.cursor() \u001b[38;5;28;01mas\u001b[39;00m cursor:\n\u001b[32m   1835\u001b[39m     \u001b[38;5;28;01mfor\u001b[39;00m sql, params \u001b[38;5;129;01min\u001b[39;00m \u001b[38;5;28mself\u001b[39m.as_sql():\n\u001b[32m-> \u001b[39m\u001b[32m1836\u001b[39m         \u001b[43mcursor\u001b[49m\u001b[43m.\u001b[49m\u001b[43mexecute\u001b[49m\u001b[43m(\u001b[49m\u001b[43msql\u001b[49m\u001b[43m,\u001b[49m\u001b[43m \u001b[49m\u001b[43mparams\u001b[49m\u001b[43m)\u001b[49m\n\u001b[32m   1837\u001b[39m     \u001b[38;5;28;01mif\u001b[39;00m \u001b[38;5;129;01mnot\u001b[39;00m \u001b[38;5;28mself\u001b[39m.returning_fields:\n\u001b[32m   1838\u001b[39m         \u001b[38;5;28;01mreturn\u001b[39;00m []\n",
      "\u001b[36mFile \u001b[39m\u001b[32mH:\\py4e\\Stock-Trading-Bot\\venv\\Lib\\site-packages\\django\\db\\backends\\utils.py:122\u001b[39m, in \u001b[36mCursorDebugWrapper.execute\u001b[39m\u001b[34m(self, sql, params)\u001b[39m\n\u001b[32m    120\u001b[39m \u001b[38;5;28;01mdef\u001b[39;00m\u001b[38;5;250m \u001b[39m\u001b[34mexecute\u001b[39m(\u001b[38;5;28mself\u001b[39m, sql, params=\u001b[38;5;28;01mNone\u001b[39;00m):\n\u001b[32m    121\u001b[39m     \u001b[38;5;28;01mwith\u001b[39;00m \u001b[38;5;28mself\u001b[39m.debug_sql(sql, params, use_last_executed_query=\u001b[38;5;28;01mTrue\u001b[39;00m):\n\u001b[32m--> \u001b[39m\u001b[32m122\u001b[39m         \u001b[38;5;28;01mreturn\u001b[39;00m \u001b[38;5;28;43msuper\u001b[39;49m\u001b[43m(\u001b[49m\u001b[43m)\u001b[49m\u001b[43m.\u001b[49m\u001b[43mexecute\u001b[49m\u001b[43m(\u001b[49m\u001b[43msql\u001b[49m\u001b[43m,\u001b[49m\u001b[43m \u001b[49m\u001b[43mparams\u001b[49m\u001b[43m)\u001b[49m\n",
      "\u001b[36mFile \u001b[39m\u001b[32mH:\\py4e\\Stock-Trading-Bot\\venv\\Lib\\site-packages\\django\\db\\backends\\utils.py:79\u001b[39m, in \u001b[36mCursorWrapper.execute\u001b[39m\u001b[34m(self, sql, params)\u001b[39m\n\u001b[32m     78\u001b[39m \u001b[38;5;28;01mdef\u001b[39;00m\u001b[38;5;250m \u001b[39m\u001b[34mexecute\u001b[39m(\u001b[38;5;28mself\u001b[39m, sql, params=\u001b[38;5;28;01mNone\u001b[39;00m):\n\u001b[32m---> \u001b[39m\u001b[32m79\u001b[39m     \u001b[38;5;28;01mreturn\u001b[39;00m \u001b[38;5;28;43mself\u001b[39;49m\u001b[43m.\u001b[49m\u001b[43m_execute_with_wrappers\u001b[49m\u001b[43m(\u001b[49m\n\u001b[32m     80\u001b[39m \u001b[43m        \u001b[49m\u001b[43msql\u001b[49m\u001b[43m,\u001b[49m\u001b[43m \u001b[49m\u001b[43mparams\u001b[49m\u001b[43m,\u001b[49m\u001b[43m \u001b[49m\u001b[43mmany\u001b[49m\u001b[43m=\u001b[49m\u001b[38;5;28;43;01mFalse\u001b[39;49;00m\u001b[43m,\u001b[49m\u001b[43m \u001b[49m\u001b[43mexecutor\u001b[49m\u001b[43m=\u001b[49m\u001b[38;5;28;43mself\u001b[39;49m\u001b[43m.\u001b[49m\u001b[43m_execute\u001b[49m\n\u001b[32m     81\u001b[39m \u001b[43m    \u001b[49m\u001b[43m)\u001b[49m\n",
      "\u001b[36mFile \u001b[39m\u001b[32mH:\\py4e\\Stock-Trading-Bot\\venv\\Lib\\site-packages\\django\\db\\backends\\utils.py:92\u001b[39m, in \u001b[36mCursorWrapper._execute_with_wrappers\u001b[39m\u001b[34m(self, sql, params, many, executor)\u001b[39m\n\u001b[32m     90\u001b[39m \u001b[38;5;28;01mfor\u001b[39;00m wrapper \u001b[38;5;129;01min\u001b[39;00m \u001b[38;5;28mreversed\u001b[39m(\u001b[38;5;28mself\u001b[39m.db.execute_wrappers):\n\u001b[32m     91\u001b[39m     executor = functools.partial(wrapper, executor)\n\u001b[32m---> \u001b[39m\u001b[32m92\u001b[39m \u001b[38;5;28;01mreturn\u001b[39;00m \u001b[43mexecutor\u001b[49m\u001b[43m(\u001b[49m\u001b[43msql\u001b[49m\u001b[43m,\u001b[49m\u001b[43m \u001b[49m\u001b[43mparams\u001b[49m\u001b[43m,\u001b[49m\u001b[43m \u001b[49m\u001b[43mmany\u001b[49m\u001b[43m,\u001b[49m\u001b[43m \u001b[49m\u001b[43mcontext\u001b[49m\u001b[43m)\u001b[49m\n",
      "\u001b[36mFile \u001b[39m\u001b[32mH:\\py4e\\Stock-Trading-Bot\\venv\\Lib\\site-packages\\django\\db\\backends\\utils.py:100\u001b[39m, in \u001b[36mCursorWrapper._execute\u001b[39m\u001b[34m(self, sql, params, *ignored_wrapper_args)\u001b[39m\n\u001b[32m     98\u001b[39m     warnings.warn(\u001b[38;5;28mself\u001b[39m.APPS_NOT_READY_WARNING_MSG, category=\u001b[38;5;167;01mRuntimeWarning\u001b[39;00m)\n\u001b[32m     99\u001b[39m \u001b[38;5;28mself\u001b[39m.db.validate_no_broken_transaction()\n\u001b[32m--> \u001b[39m\u001b[32m100\u001b[39m \u001b[38;5;28;01mwith\u001b[39;00m \u001b[38;5;28mself\u001b[39m.db.wrap_database_errors:\n\u001b[32m    101\u001b[39m     \u001b[38;5;28;01mif\u001b[39;00m params \u001b[38;5;129;01mis\u001b[39;00m \u001b[38;5;28;01mNone\u001b[39;00m:\n\u001b[32m    102\u001b[39m         \u001b[38;5;66;03m# params default might be backend specific.\u001b[39;00m\n\u001b[32m    103\u001b[39m         \u001b[38;5;28;01mreturn\u001b[39;00m \u001b[38;5;28mself\u001b[39m.cursor.execute(sql)\n",
      "\u001b[36mFile \u001b[39m\u001b[32mH:\\py4e\\Stock-Trading-Bot\\venv\\Lib\\site-packages\\django\\db\\utils.py:91\u001b[39m, in \u001b[36mDatabaseErrorWrapper.__exit__\u001b[39m\u001b[34m(self, exc_type, exc_value, traceback)\u001b[39m\n\u001b[32m     89\u001b[39m \u001b[38;5;28;01mif\u001b[39;00m dj_exc_type \u001b[38;5;129;01mnot\u001b[39;00m \u001b[38;5;129;01min\u001b[39;00m (DataError, IntegrityError):\n\u001b[32m     90\u001b[39m     \u001b[38;5;28mself\u001b[39m.wrapper.errors_occurred = \u001b[38;5;28;01mTrue\u001b[39;00m\n\u001b[32m---> \u001b[39m\u001b[32m91\u001b[39m \u001b[38;5;28;01mraise\u001b[39;00m dj_exc_value.with_traceback(traceback) \u001b[38;5;28;01mfrom\u001b[39;00m\u001b[38;5;250m \u001b[39m\u001b[34;01mexc_value\u001b[39;00m\n",
      "\u001b[36mFile \u001b[39m\u001b[32mH:\\py4e\\Stock-Trading-Bot\\venv\\Lib\\site-packages\\django\\db\\backends\\utils.py:105\u001b[39m, in \u001b[36mCursorWrapper._execute\u001b[39m\u001b[34m(self, sql, params, *ignored_wrapper_args)\u001b[39m\n\u001b[32m    103\u001b[39m     \u001b[38;5;28;01mreturn\u001b[39;00m \u001b[38;5;28mself\u001b[39m.cursor.execute(sql)\n\u001b[32m    104\u001b[39m \u001b[38;5;28;01melse\u001b[39;00m:\n\u001b[32m--> \u001b[39m\u001b[32m105\u001b[39m     \u001b[38;5;28;01mreturn\u001b[39;00m \u001b[38;5;28;43mself\u001b[39;49m\u001b[43m.\u001b[49m\u001b[43mcursor\u001b[49m\u001b[43m.\u001b[49m\u001b[43mexecute\u001b[49m\u001b[43m(\u001b[49m\u001b[43msql\u001b[49m\u001b[43m,\u001b[49m\u001b[43m \u001b[49m\u001b[43mparams\u001b[49m\u001b[43m)\u001b[49m\n",
      "\u001b[36mFile \u001b[39m\u001b[32mH:\\py4e\\Stock-Trading-Bot\\venv\\Lib\\site-packages\\psycopg\\cursor.py:97\u001b[39m, in \u001b[36mCursor.execute\u001b[39m\u001b[34m(self, query, params, prepare, binary)\u001b[39m\n\u001b[32m     93\u001b[39m         \u001b[38;5;28mself\u001b[39m._conn.wait(\n\u001b[32m     94\u001b[39m             \u001b[38;5;28mself\u001b[39m._execute_gen(query, params, prepare=prepare, binary=binary)\n\u001b[32m     95\u001b[39m         )\n\u001b[32m     96\u001b[39m \u001b[38;5;28;01mexcept\u001b[39;00m e._NO_TRACEBACK \u001b[38;5;28;01mas\u001b[39;00m ex:\n\u001b[32m---> \u001b[39m\u001b[32m97\u001b[39m     \u001b[38;5;28;01mraise\u001b[39;00m ex.with_traceback(\u001b[38;5;28;01mNone\u001b[39;00m)\n\u001b[32m     98\u001b[39m \u001b[38;5;28;01mreturn\u001b[39;00m \u001b[38;5;28mself\u001b[39m\n",
      "\u001b[31mIntegrityError\u001b[39m: duplicate key value violates unique constraint \"market_company_ticker_key\"\nDETAIL:  Key (ticker)=(META) already exists."
     ]
    }
   ],
   "source": [
    "obj,created=Company.objects.get_or_create(name=\"Meta\", ticker=\"meta\")\n",
    "obj.save()"
   ]
  },
  {
   "cell_type": "code",
   "execution_count": null,
   "id": "739adece-ee0f-436c-ba3f-d5341dc1d597",
   "metadata": {},
   "outputs": [],
   "source": [
    "stocks=StockQuotes.objects.all()\n",
    "stocks.count()"
   ]
  },
  {
   "cell_type": "code",
   "execution_count": null,
   "id": "f90d8ab8-eabc-4bb4-9b0d-bfeb81d74e33",
   "metadata": {},
   "outputs": [],
   "source": [
    "start_from_scratch=True\n",
    "if start_from_scratch:\n",
    "    stocks.delete()"
   ]
  },
  {
   "cell_type": "code",
   "execution_count": null,
   "id": "3d0c5d71-9772-4989-9730-6fb25246cdf8",
   "metadata": {},
   "outputs": [],
   "source": [
    "from market import tasks as market_tasks"
   ]
  },
  {
   "cell_type": "code",
   "execution_count": null,
   "id": "43ee2033-b641-430a-b23d-1c7acd6658d7",
   "metadata": {},
   "outputs": [],
   "source": [
    "market_tasks.sync_stock_data()"
   ]
  },
  {
   "cell_type": "code",
   "execution_count": null,
   "id": "d4dd0ed4-f801-456f-b145-72255e3a9795",
   "metadata": {},
   "outputs": [],
   "source": [
    "StockQuotes.objects.all().count()"
   ]
  },
  {
   "cell_type": "code",
   "execution_count": null,
   "id": "e329bbe3-9b96-48dc-924e-316a06d2988c",
   "metadata": {},
   "outputs": [],
   "source": []
  },
  {
   "cell_type": "code",
   "execution_count": null,
   "id": "58f4ea9c-3fe5-4b26-8864-8087adaee037",
   "metadata": {},
   "outputs": [],
   "source": []
  }
 ],
 "metadata": {
  "kernelspec": {
   "display_name": "Python 3 (ipykernel)",
   "language": "python",
   "name": "python3"
  },
  "language_info": {
   "codemirror_mode": {
    "name": "ipython",
    "version": 3
   },
   "file_extension": ".py",
   "mimetype": "text/x-python",
   "name": "python",
   "nbconvert_exporter": "python",
   "pygments_lexer": "ipython3",
   "version": "3.12.6"
  }
 },
 "nbformat": 4,
 "nbformat_minor": 5
}
