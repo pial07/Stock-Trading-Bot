{
 "cells": [
  {
   "cell_type": "code",
   "execution_count": 1,
   "id": "e050de6a-0800-468b-869d-458029166424",
   "metadata": {},
   "outputs": [],
   "source": [
    "from decouple import config"
   ]
  },
  {
   "cell_type": "code",
   "execution_count": 2,
   "id": "2dbbf4ef-567e-4207-a1a1-760ebde2cb72",
   "metadata": {},
   "outputs": [
    {
     "data": {
      "text/plain": [
       "'XK8SL9VGPD15E29P'"
      ]
     },
     "execution_count": 2,
     "metadata": {},
     "output_type": "execute_result"
    }
   ],
   "source": [
    "assert config(\"ALPHA_VANTAGE_API_KEY\", default=None, cast=str) is not None"
   ]
  },
  {
   "cell_type": "code",
   "execution_count": 3,
   "id": "e38f91bf-56ec-426b-8cb4-bcc34d80dbf2",
   "metadata": {},
   "outputs": [
    {
     "data": {
      "text/plain": [
       "'3UtvIpyt5CO5W8hpbclQ7AWpDTHD2hp8'"
      ]
     },
     "execution_count": 3,
     "metadata": {},
     "output_type": "execute_result"
    }
   ],
   "source": [
    "assert config(\"POLYGON_API_KEY\", default=None, cast=str) is not None "
   ]
  },
  {
   "cell_type": "code",
   "execution_count": null,
   "id": "2602707c-3d79-4f6c-9e76-52939fa0dae5",
   "metadata": {},
   "outputs": [],
   "source": []
  }
 ],
 "metadata": {
  "kernelspec": {
   "display_name": "Python 3 (ipykernel)",
   "language": "python",
   "name": "python3"
  },
  "language_info": {
   "codemirror_mode": {
    "name": "ipython",
    "version": 3
   },
   "file_extension": ".py",
   "mimetype": "text/x-python",
   "name": "python",
   "nbconvert_exporter": "python",
   "pygments_lexer": "ipython3",
   "version": "3.12.6"
  }
 },
 "nbformat": 4,
 "nbformat_minor": 5
}
