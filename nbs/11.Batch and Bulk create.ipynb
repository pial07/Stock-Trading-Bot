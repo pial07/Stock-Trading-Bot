{
 "cells": [
  {
   "cell_type": "code",
   "execution_count": 1,
   "id": "0f2eb158-cd7b-427a-9aee-c7c5e60f84ba",
   "metadata": {},
   "outputs": [],
   "source": [
    "import setup\n",
    "setup.init_django()"
   ]
  },
  {
   "cell_type": "code",
   "execution_count": 2,
   "id": "678043df-333c-4582-b71e-f309188e789b",
   "metadata": {},
   "outputs": [],
   "source": [
    "import helpers.client as helper_clients "
   ]
  },
  {
   "cell_type": "code",
   "execution_count": 15,
   "id": "c78959db-1fc0-489b-a531-1d37b7d4e14e",
   "metadata": {},
   "outputs": [],
   "source": [
    "company_name = \"Apple\"\n",
    "company_ticker = \"AAPL\"\n",
    "function =\"TIME_SERIES_INTRADAY\"\n",
    "interval = \"1min\"\n",
    "month: str = \"2024-02\"\n",
    "\n",
    "\n",
    "client=helper_clients.AlphaVantageAPIClient(\n",
    "    ticker=company_ticker,\n",
    "    function=function,\n",
    "    interval=interval,\n",
    "    month=month\n",
    ")\n",
    "dataset=client.get_stock_data()"
   ]
  },
  {
   "cell_type": "code",
   "execution_count": 16,
   "id": "ae4c45af-21e3-4293-8bd4-96dea355cf84",
   "metadata": {},
   "outputs": [
    {
     "data": {
      "text/plain": [
       "100"
      ]
     },
     "execution_count": 16,
     "metadata": {},
     "output_type": "execute_result"
    }
   ],
   "source": [
    "len(dataset)"
   ]
  },
  {
   "cell_type": "code",
   "execution_count": 17,
   "id": "d0859fe9-3ce4-43a5-9ac3-3c2a30d3830e",
   "metadata": {},
   "outputs": [
    {
     "data": {
      "text/plain": [
       "{'open_price': Decimal('179.8008'),\n",
       " 'close_price': Decimal('179.7660'),\n",
       " 'high_price': Decimal('179.8008'),\n",
       " 'low_price': Decimal('179.7660'),\n",
       " 'number_of_trades': None,\n",
       " 'volume': 1571,\n",
       " 'volume_weighted_average': None,\n",
       " 'time': datetime.datetime(2024, 3, 1, 0, 59, tzinfo=<UTC>)}"
      ]
     },
     "execution_count": 17,
     "metadata": {},
     "output_type": "execute_result"
    }
   ],
   "source": [
    "new_stock_data=dataset[0]\n",
    "new_stock_data"
   ]
  },
  {
   "cell_type": "code",
   "execution_count": 18,
   "id": "88169954-d9fb-4938-a569-c41f7bfa6c21",
   "metadata": {},
   "outputs": [],
   "source": [
    "from market.models import Company,StockQuotes"
   ]
  },
  {
   "cell_type": "code",
   "execution_count": 19,
   "id": "d6543e6f-bc2f-4f01-8972-b1d99e2c140f",
   "metadata": {},
   "outputs": [],
   "source": [
    "company_obj, created=Company.objects.get_or_create(name=company_name, ticker=company_ticker)"
   ]
  },
  {
   "cell_type": "code",
   "execution_count": 20,
   "id": "d7a2f51e-1f4f-4655-be57-730a9278db0e",
   "metadata": {},
   "outputs": [
    {
     "data": {
      "text/plain": [
       "<Company: Company object (1)>"
      ]
     },
     "execution_count": 20,
     "metadata": {},
     "output_type": "execute_result"
    }
   ],
   "source": [
    "company_obj"
   ]
  },
  {
   "cell_type": "markdown",
   "id": "6b1243a2-c7dd-496f-b148-0e3edd139ba0",
   "metadata": {},
   "source": [
    "#StockQuotes.objects.bulk_create(company=company_obj, **new_stock_data)"
   ]
  },
  {
   "cell_type": "code",
   "execution_count": 21,
   "id": "f9c0dbdc-2b29-4992-9688-d6534a9cf6e3",
   "metadata": {},
   "outputs": [],
   "source": [
    "new_quotes=[]\n",
    "for data in dataset:\n",
    "    new_quotes.append(StockQuotes(company=company_obj, **data))"
   ]
  },
  {
   "cell_type": "code",
   "execution_count": 11,
   "id": "3b6da9fd-7632-40df-9dea-a7fd54af2a8c",
   "metadata": {},
   "outputs": [
    {
     "data": {
      "text/plain": [
       "[<StockQuotes: StockQuotes object (None)>,\n",
       " <StockQuotes: StockQuotes object (None)>,\n",
       " <StockQuotes: StockQuotes object (None)>,\n",
       " <StockQuotes: StockQuotes object (None)>,\n",
       " <StockQuotes: StockQuotes object (None)>,\n",
       " <StockQuotes: StockQuotes object (None)>,\n",
       " <StockQuotes: StockQuotes object (None)>,\n",
       " <StockQuotes: StockQuotes object (None)>,\n",
       " <StockQuotes: StockQuotes object (None)>,\n",
       " <StockQuotes: StockQuotes object (None)>,\n",
       " <StockQuotes: StockQuotes object (None)>,\n",
       " <StockQuotes: StockQuotes object (None)>,\n",
       " <StockQuotes: StockQuotes object (None)>,\n",
       " <StockQuotes: StockQuotes object (None)>,\n",
       " <StockQuotes: StockQuotes object (None)>,\n",
       " <StockQuotes: StockQuotes object (None)>,\n",
       " <StockQuotes: StockQuotes object (None)>,\n",
       " <StockQuotes: StockQuotes object (None)>,\n",
       " <StockQuotes: StockQuotes object (None)>,\n",
       " <StockQuotes: StockQuotes object (None)>,\n",
       " <StockQuotes: StockQuotes object (None)>,\n",
       " <StockQuotes: StockQuotes object (None)>,\n",
       " <StockQuotes: StockQuotes object (None)>,\n",
       " <StockQuotes: StockQuotes object (None)>,\n",
       " <StockQuotes: StockQuotes object (None)>,\n",
       " <StockQuotes: StockQuotes object (None)>,\n",
       " <StockQuotes: StockQuotes object (None)>,\n",
       " <StockQuotes: StockQuotes object (None)>,\n",
       " <StockQuotes: StockQuotes object (None)>,\n",
       " <StockQuotes: StockQuotes object (None)>,\n",
       " <StockQuotes: StockQuotes object (None)>,\n",
       " <StockQuotes: StockQuotes object (None)>,\n",
       " <StockQuotes: StockQuotes object (None)>,\n",
       " <StockQuotes: StockQuotes object (None)>,\n",
       " <StockQuotes: StockQuotes object (None)>,\n",
       " <StockQuotes: StockQuotes object (None)>,\n",
       " <StockQuotes: StockQuotes object (None)>,\n",
       " <StockQuotes: StockQuotes object (None)>,\n",
       " <StockQuotes: StockQuotes object (None)>,\n",
       " <StockQuotes: StockQuotes object (None)>,\n",
       " <StockQuotes: StockQuotes object (None)>,\n",
       " <StockQuotes: StockQuotes object (None)>,\n",
       " <StockQuotes: StockQuotes object (None)>,\n",
       " <StockQuotes: StockQuotes object (None)>,\n",
       " <StockQuotes: StockQuotes object (None)>,\n",
       " <StockQuotes: StockQuotes object (None)>,\n",
       " <StockQuotes: StockQuotes object (None)>,\n",
       " <StockQuotes: StockQuotes object (None)>,\n",
       " <StockQuotes: StockQuotes object (None)>,\n",
       " <StockQuotes: StockQuotes object (None)>,\n",
       " <StockQuotes: StockQuotes object (None)>,\n",
       " <StockQuotes: StockQuotes object (None)>,\n",
       " <StockQuotes: StockQuotes object (None)>,\n",
       " <StockQuotes: StockQuotes object (None)>,\n",
       " <StockQuotes: StockQuotes object (None)>,\n",
       " <StockQuotes: StockQuotes object (None)>,\n",
       " <StockQuotes: StockQuotes object (None)>,\n",
       " <StockQuotes: StockQuotes object (None)>,\n",
       " <StockQuotes: StockQuotes object (None)>,\n",
       " <StockQuotes: StockQuotes object (None)>,\n",
       " <StockQuotes: StockQuotes object (None)>,\n",
       " <StockQuotes: StockQuotes object (None)>,\n",
       " <StockQuotes: StockQuotes object (None)>,\n",
       " <StockQuotes: StockQuotes object (None)>,\n",
       " <StockQuotes: StockQuotes object (None)>,\n",
       " <StockQuotes: StockQuotes object (None)>,\n",
       " <StockQuotes: StockQuotes object (None)>,\n",
       " <StockQuotes: StockQuotes object (None)>,\n",
       " <StockQuotes: StockQuotes object (None)>,\n",
       " <StockQuotes: StockQuotes object (None)>,\n",
       " <StockQuotes: StockQuotes object (None)>,\n",
       " <StockQuotes: StockQuotes object (None)>,\n",
       " <StockQuotes: StockQuotes object (None)>,\n",
       " <StockQuotes: StockQuotes object (None)>,\n",
       " <StockQuotes: StockQuotes object (None)>,\n",
       " <StockQuotes: StockQuotes object (None)>,\n",
       " <StockQuotes: StockQuotes object (None)>,\n",
       " <StockQuotes: StockQuotes object (None)>,\n",
       " <StockQuotes: StockQuotes object (None)>,\n",
       " <StockQuotes: StockQuotes object (None)>,\n",
       " <StockQuotes: StockQuotes object (None)>,\n",
       " <StockQuotes: StockQuotes object (None)>,\n",
       " <StockQuotes: StockQuotes object (None)>,\n",
       " <StockQuotes: StockQuotes object (None)>,\n",
       " <StockQuotes: StockQuotes object (None)>,\n",
       " <StockQuotes: StockQuotes object (None)>,\n",
       " <StockQuotes: StockQuotes object (None)>,\n",
       " <StockQuotes: StockQuotes object (None)>,\n",
       " <StockQuotes: StockQuotes object (None)>,\n",
       " <StockQuotes: StockQuotes object (None)>,\n",
       " <StockQuotes: StockQuotes object (None)>,\n",
       " <StockQuotes: StockQuotes object (None)>,\n",
       " <StockQuotes: StockQuotes object (None)>,\n",
       " <StockQuotes: StockQuotes object (None)>,\n",
       " <StockQuotes: StockQuotes object (None)>,\n",
       " <StockQuotes: StockQuotes object (None)>,\n",
       " <StockQuotes: StockQuotes object (None)>,\n",
       " <StockQuotes: StockQuotes object (None)>,\n",
       " <StockQuotes: StockQuotes object (None)>,\n",
       " <StockQuotes: StockQuotes object (None)>]"
      ]
     },
     "execution_count": 11,
     "metadata": {},
     "output_type": "execute_result"
    }
   ],
   "source": [
    "StockQuotes.objects.bulk_create(new_quotes, ignore_conflicts=True)"
   ]
  },
  {
   "cell_type": "code",
   "execution_count": 12,
   "id": "505441f3-adcd-4487-b83a-5689f2ec6bb7",
   "metadata": {},
   "outputs": [
    {
     "data": {
      "text/plain": [
       "<QuerySet [<StockQuotes: StockQuotes object (2)>, <StockQuotes: StockQuotes object (5)>, <StockQuotes: StockQuotes object (6)>, <StockQuotes: StockQuotes object (7)>, <StockQuotes: StockQuotes object (8)>, <StockQuotes: StockQuotes object (9)>, <StockQuotes: StockQuotes object (10)>, <StockQuotes: StockQuotes object (11)>, <StockQuotes: StockQuotes object (12)>, <StockQuotes: StockQuotes object (13)>, <StockQuotes: StockQuotes object (14)>, <StockQuotes: StockQuotes object (15)>, <StockQuotes: StockQuotes object (16)>, <StockQuotes: StockQuotes object (17)>, <StockQuotes: StockQuotes object (18)>, <StockQuotes: StockQuotes object (19)>, <StockQuotes: StockQuotes object (20)>, <StockQuotes: StockQuotes object (21)>, <StockQuotes: StockQuotes object (22)>, <StockQuotes: StockQuotes object (23)>, '...(remaining elements truncated)...']>"
      ]
     },
     "execution_count": 12,
     "metadata": {},
     "output_type": "execute_result"
    }
   ],
   "source": [
    "StockQuotes.objects.all()"
   ]
  },
  {
   "cell_type": "code",
   "execution_count": 14,
   "id": "c5a39628-602d-42ca-98c9-b540109d51e3",
   "metadata": {},
   "outputs": [
    {
     "name": "stdout",
     "output_type": "stream",
     "text": [
      "0\n",
      "10\n",
      "20\n",
      "30\n",
      "40\n",
      "50\n",
      "60\n",
      "70\n",
      "80\n",
      "90\n"
     ]
    }
   ],
   "source": [
    "batch_size=10\n",
    "for i in range(0,len(dataset),batch_size):\n",
    "    print(i)"
   ]
  },
  {
   "cell_type": "code",
   "execution_count": null,
   "id": "0d875801-79fd-4f96-9d5b-9775b3dc4f02",
   "metadata": {},
   "outputs": [],
   "source": []
  }
 ],
 "metadata": {
  "kernelspec": {
   "display_name": "Python 3 (ipykernel)",
   "language": "python",
   "name": "python3"
  },
  "language_info": {
   "codemirror_mode": {
    "name": "ipython",
    "version": 3
   },
   "file_extension": ".py",
   "mimetype": "text/x-python",
   "name": "python",
   "nbconvert_exporter": "python",
   "pygments_lexer": "ipython3",
   "version": "3.12.6"
  }
 },
 "nbformat": 4,
 "nbformat_minor": 5
}
