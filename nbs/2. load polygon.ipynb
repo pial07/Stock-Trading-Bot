{
 "cells": [
  {
   "cell_type": "code",
   "execution_count": 3,
   "id": "e050de6a-0800-468b-869d-458029166424",
   "metadata": {},
   "outputs": [],
   "source": [
    "from decouple import config"
   ]
  },
  {
   "cell_type": "code",
   "execution_count": 4,
   "id": "e38f91bf-56ec-426b-8cb4-bcc34d80dbf2",
   "metadata": {},
   "outputs": [],
   "source": [
    "assert config(\"POLYGON_API_KEY\", default=None, cast=str) is not None "
   ]
  },
  {
   "cell_type": "code",
   "execution_count": 5,
   "id": "2602707c-3d79-4f6c-9e76-52939fa0dae5",
   "metadata": {},
   "outputs": [],
   "source": [
    "POLYGON_API_KEY=config(\"POLYGON_API_KEY\", default=None, cast=str)"
   ]
  },
  {
   "cell_type": "code",
   "execution_count": 6,
   "id": "ec1d4aff-c4a0-484c-9259-7515bc98c1db",
   "metadata": {},
   "outputs": [],
   "source": [
    "import requests"
   ]
  },
  {
   "cell_type": "code",
   "execution_count": 19,
   "id": "ddcca6ad-43eb-43d1-bca6-e1d386258dce",
   "metadata": {},
   "outputs": [],
   "source": [
    "ticker = \"AAPL\"\n",
    "multiplier = \"5\"\n",
    "timespan = \"minute\"\n",
    "from_date = \"2023-01-09\"\n",
    "to_date = \"2023-01-09\"\n",
    "path = f\"/v2/aggs/ticker/{ticker}/range/{multiplier}/{timespan}/{from_date}/{to_date}\"\n",
    "url = f\"https://api.polygon.io{path}?apiKey={POLYGON_API_KEY}\""
   ]
  },
  {
   "cell_type": "code",
   "execution_count": 20,
   "id": "ce42980c-2fe3-4267-9eca-f9bba038a8ab",
   "metadata": {},
   "outputs": [],
   "source": [
    "#url=\"https://api.polygon.io/v2/aggs/ticker/AAPL/range/1/day/2023-01-09/2023-02-10?adjusted=true&sort=asc&limit=120&apiKey=3UtvIpyt5CO5W8hpbclQ7AWpDTHD2hp8\""
   ]
  },
  {
   "cell_type": "code",
   "execution_count": 21,
   "id": "ddf48706-3885-4925-bf5f-81b3de8f6908",
   "metadata": {},
   "outputs": [],
   "source": [
    "response=requests.get(url)"
   ]
  },
  {
   "cell_type": "code",
   "execution_count": 22,
   "id": "8bab5027-dcbf-42bd-b017-cbe33d7d81d1",
   "metadata": {},
   "outputs": [
    {
     "data": {
      "text/plain": [
       "{'status': 'NOT_AUTHORIZED',\n",
       " 'request_id': '20680f3727449b1a34cb023a0a2e3a07',\n",
       " 'message': \"Your plan doesn't include this data timeframe. Please upgrade your plan at https://polygon.io/pricing\"}"
      ]
     },
     "execution_count": 22,
     "metadata": {},
     "output_type": "execute_result"
    }
   ],
   "source": [
    "response.json()"
   ]
  },
  {
   "cell_type": "code",
   "execution_count": null,
   "id": "6dc10296-2b45-4d7a-b7b0-ff5af0696ba6",
   "metadata": {},
   "outputs": [],
   "source": []
  }
 ],
 "metadata": {
  "kernelspec": {
   "display_name": "Python 3 (ipykernel)",
   "language": "python",
   "name": "python3"
  },
  "language_info": {
   "codemirror_mode": {
    "name": "ipython",
    "version": 3
   },
   "file_extension": ".py",
   "mimetype": "text/x-python",
   "name": "python",
   "nbconvert_exporter": "python",
   "pygments_lexer": "ipython3",
   "version": "3.12.6"
  }
 },
 "nbformat": 4,
 "nbformat_minor": 5
}
