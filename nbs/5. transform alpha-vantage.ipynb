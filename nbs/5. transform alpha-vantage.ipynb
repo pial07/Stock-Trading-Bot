{
 "cells": [
  {
   "cell_type": "code",
   "execution_count": 2,
   "id": "e050de6a-0800-468b-869d-458029166424",
   "metadata": {},
   "outputs": [],
   "source": [
    "from decouple import config"
   ]
  },
  {
   "cell_type": "code",
   "execution_count": 3,
   "id": "e38f91bf-56ec-426b-8cb4-bcc34d80dbf2",
   "metadata": {},
   "outputs": [],
   "source": [
    "assert config(\"ALPHA_VANTAGE_API_KEY\", default=None, cast=str) is not None "
   ]
  },
  {
   "cell_type": "code",
   "execution_count": 4,
   "id": "2602707c-3d79-4f6c-9e76-52939fa0dae5",
   "metadata": {},
   "outputs": [],
   "source": [
    "ALPHA_VANTAGE_API_KEY=config(\"ALPHA_VANTAGE_API_KEY\", default=None, cast=str)"
   ]
  },
  {
   "cell_type": "code",
   "execution_count": 30,
   "id": "ec1d4aff-c4a0-484c-9259-7515bc98c1db",
   "metadata": {},
   "outputs": [],
   "source": [
    "import requests\n",
    "api_key=ALPHA_VANTAGE_API_KEY\n",
    "params={\n",
    "    \"api_key\": ALPHA_VANTAGE_API_KEY,\n",
    "    \"ticker\": \"AAPL\",\n",
    "    \"function\": \"TIME_SERIES_INTRADAY\"\n",
    "}\n",
    "# replace the \"demo\" apikey below with your own key from https://www.alphavantage.co/support/#api-key\n",
    "url = 'https://www.alphavantage.co/query?function={function}&symbol={ticker}&interval=1min&apikey={api_key}'.format(**params)\n",
    "r = requests.get(url)\n",
    "data = r.json()\n"
   ]
  },
  {
   "cell_type": "code",
   "execution_count": 36,
   "id": "9a215621-7670-4ae8-8019-7a628e8475c8",
   "metadata": {},
   "outputs": [],
   "source": [
    "dataset_key=[x for x in list(data.keys()) if not x.lower()==\"meta data\"][0]"
   ]
  },
  {
   "cell_type": "code",
   "execution_count": 38,
   "id": "93fe1d9f-6a2d-41ed-b74f-a1f93f5d7db3",
   "metadata": {},
   "outputs": [],
   "source": [
    "results=data[dataset_key]"
   ]
  },
  {
   "cell_type": "code",
   "execution_count": 39,
   "id": "1374d90b-3c8e-4be4-b8c4-209f382b2965",
   "metadata": {},
   "outputs": [
    {
     "data": {
      "text/plain": [
       "'2025-04-17 19:59:00'"
      ]
     },
     "execution_count": 39,
     "metadata": {},
     "output_type": "execute_result"
    }
   ],
   "source": [
    "timestamp_str=list(results.keys())[0]\n",
    "timestamp_str"
   ]
  },
  {
   "cell_type": "code",
   "execution_count": 40,
   "id": "2c9121f5-65d9-4274-bcc4-c851522502c7",
   "metadata": {},
   "outputs": [
    {
     "data": {
      "text/plain": [
       "{'1. open': '197.2500',\n",
       " '2. high': '197.3200',\n",
       " '3. low': '197.2400',\n",
       " '4. close': '197.3000',\n",
       " '5. volume': '847'}"
      ]
     },
     "execution_count": 40,
     "metadata": {},
     "output_type": "execute_result"
    }
   ],
   "source": [
    "result_val=results.get(timestamp_str)\n",
    "result_val"
   ]
  },
  {
   "cell_type": "code",
   "execution_count": 41,
   "id": "530d847d-8eb2-4c5c-9b92-29bbcab62874",
   "metadata": {},
   "outputs": [],
   "source": [
    "import pytz\n",
    "from datetime import datetime\n",
    "from decimal import Decimal\n",
    "\n",
    "def transform_alpha_vantage_result(timestamp_str,result):\n",
    "    # unix_timestamp = result.get('t') / 1000.0\n",
    "    # utc_timestamp = datetime.fromtimestamp(unix_timestamp, tz=pytz.timezone('UTC'))\n",
    "    timestamp_format = '%Y-%m-%d %H:%M:%S' \n",
    "    eastern = pytz.timezone(\"US/Eastern\")\n",
    "    utc = pytz.utc\n",
    "    timestamp = eastern.localize(datetime.strptime(timestamp_str,timestamp_format)).astimezone(utc)\n",
    "    return {\n",
    "        'open_price': Decimal(result['1. open']),\n",
    "        'close_price': Decimal(result['4. close']),\n",
    "        'high_price': Decimal(result['2. high']),\n",
    "        'low_price': Decimal(result['3. low']),\n",
    "        'number_of_trades': None,\n",
    "        'volume': int(result['5. volume']),\n",
    "        'volume_weighted_average': None,\n",
    "        'time': timestamp,\n",
    "    }"
   ]
  },
  {
   "cell_type": "code",
   "execution_count": 42,
   "id": "574a5ffe-9261-4d88-9c87-976ed2ae3087",
   "metadata": {},
   "outputs": [
    {
     "data": {
      "text/plain": [
       "{'open_price': Decimal('197.2500'),\n",
       " 'close_price': Decimal('197.3000'),\n",
       " 'high_price': Decimal('197.3200'),\n",
       " 'low_price': Decimal('197.2400'),\n",
       " 'number_of_trades': None,\n",
       " 'volume': 847,\n",
       " 'volume_weighted_average': None,\n",
       " 'time': datetime.datetime(2025, 4, 17, 23, 59, tzinfo=<UTC>)}"
      ]
     },
     "execution_count": 42,
     "metadata": {},
     "output_type": "execute_result"
    }
   ],
   "source": [
    "transform_alpha_vantage_result(timestamp_str,result_val)"
   ]
  },
  {
   "cell_type": "code",
   "execution_count": null,
   "id": "5b2356d5-da50-4642-aa03-de72191e79e1",
   "metadata": {},
   "outputs": [],
   "source": []
  },
  {
   "cell_type": "code",
   "execution_count": null,
   "id": "f471236a-4cc3-4e39-b618-130d8c11730b",
   "metadata": {},
   "outputs": [],
   "source": []
  }
 ],
 "metadata": {
  "kernelspec": {
   "display_name": "Python 3 (ipykernel)",
   "language": "python",
   "name": "python3"
  },
  "language_info": {
   "codemirror_mode": {
    "name": "ipython",
    "version": 3
   },
   "file_extension": ".py",
   "mimetype": "text/x-python",
   "name": "python",
   "nbconvert_exporter": "python",
   "pygments_lexer": "ipython3",
   "version": "3.12.6"
  }
 },
 "nbformat": 4,
 "nbformat_minor": 5
}
